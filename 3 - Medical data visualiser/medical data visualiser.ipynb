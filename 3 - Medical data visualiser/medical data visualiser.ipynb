{
 "cells": [
  {
   "cell_type": "code",
   "execution_count": 207,
   "metadata": {},
   "outputs": [],
   "source": [
    "import pandas as pd\n",
    "import seaborn as sns\n",
    "import matplotlib.pyplot as plt\n",
    "import numpy as np"
   ]
  },
  {
   "cell_type": "code",
   "execution_count": 208,
   "metadata": {},
   "outputs": [],
   "source": [
    "# reading csv file\n",
    "df = pd.read_csv('medical_examination.csv')"
   ]
  },
  {
   "cell_type": "code",
   "execution_count": 209,
   "metadata": {},
   "outputs": [
    {
     "name": "stdout",
     "output_type": "stream",
     "text": [
      "<class 'pandas.core.frame.DataFrame'>\n",
      "RangeIndex: 70000 entries, 0 to 69999\n",
      "Data columns (total 13 columns):\n",
      " #   Column       Non-Null Count  Dtype  \n",
      "---  ------       --------------  -----  \n",
      " 0   id           70000 non-null  int64  \n",
      " 1   age          70000 non-null  int64  \n",
      " 2   sex          70000 non-null  int64  \n",
      " 3   height       70000 non-null  int64  \n",
      " 4   weight       70000 non-null  float64\n",
      " 5   ap_hi        70000 non-null  int64  \n",
      " 6   ap_lo        70000 non-null  int64  \n",
      " 7   cholesterol  70000 non-null  int64  \n",
      " 8   gluc         70000 non-null  int64  \n",
      " 9   smoke        70000 non-null  int64  \n",
      " 10  alco         70000 non-null  int64  \n",
      " 11  active       70000 non-null  int64  \n",
      " 12  cardio       70000 non-null  int64  \n",
      "dtypes: float64(1), int64(12)\n",
      "memory usage: 6.9 MB\n"
     ]
    }
   ],
   "source": [
    "# Checking headers and data types\n",
    "df.info()"
   ]
  },
  {
   "cell_type": "code",
   "execution_count": 210,
   "metadata": {},
   "outputs": [
    {
     "data": {
      "text/html": [
       "<div>\n",
       "<style scoped>\n",
       "    .dataframe tbody tr th:only-of-type {\n",
       "        vertical-align: middle;\n",
       "    }\n",
       "\n",
       "    .dataframe tbody tr th {\n",
       "        vertical-align: top;\n",
       "    }\n",
       "\n",
       "    .dataframe thead th {\n",
       "        text-align: right;\n",
       "    }\n",
       "</style>\n",
       "<table border=\"1\" class=\"dataframe\">\n",
       "  <thead>\n",
       "    <tr style=\"text-align: right;\">\n",
       "      <th></th>\n",
       "      <th>id</th>\n",
       "      <th>age</th>\n",
       "      <th>sex</th>\n",
       "      <th>height</th>\n",
       "      <th>weight</th>\n",
       "      <th>ap_hi</th>\n",
       "      <th>ap_lo</th>\n",
       "      <th>cholesterol</th>\n",
       "      <th>gluc</th>\n",
       "      <th>smoke</th>\n",
       "      <th>alco</th>\n",
       "      <th>active</th>\n",
       "      <th>cardio</th>\n",
       "    </tr>\n",
       "  </thead>\n",
       "  <tbody>\n",
       "    <tr>\n",
       "      <th>0</th>\n",
       "      <td>0</td>\n",
       "      <td>18393</td>\n",
       "      <td>2</td>\n",
       "      <td>168</td>\n",
       "      <td>62.0</td>\n",
       "      <td>110</td>\n",
       "      <td>80</td>\n",
       "      <td>1</td>\n",
       "      <td>1</td>\n",
       "      <td>0</td>\n",
       "      <td>0</td>\n",
       "      <td>1</td>\n",
       "      <td>0</td>\n",
       "    </tr>\n",
       "    <tr>\n",
       "      <th>1</th>\n",
       "      <td>1</td>\n",
       "      <td>20228</td>\n",
       "      <td>1</td>\n",
       "      <td>156</td>\n",
       "      <td>85.0</td>\n",
       "      <td>140</td>\n",
       "      <td>90</td>\n",
       "      <td>3</td>\n",
       "      <td>1</td>\n",
       "      <td>0</td>\n",
       "      <td>0</td>\n",
       "      <td>1</td>\n",
       "      <td>1</td>\n",
       "    </tr>\n",
       "    <tr>\n",
       "      <th>2</th>\n",
       "      <td>2</td>\n",
       "      <td>18857</td>\n",
       "      <td>1</td>\n",
       "      <td>165</td>\n",
       "      <td>64.0</td>\n",
       "      <td>130</td>\n",
       "      <td>70</td>\n",
       "      <td>3</td>\n",
       "      <td>1</td>\n",
       "      <td>0</td>\n",
       "      <td>0</td>\n",
       "      <td>0</td>\n",
       "      <td>1</td>\n",
       "    </tr>\n",
       "    <tr>\n",
       "      <th>3</th>\n",
       "      <td>3</td>\n",
       "      <td>17623</td>\n",
       "      <td>2</td>\n",
       "      <td>169</td>\n",
       "      <td>82.0</td>\n",
       "      <td>150</td>\n",
       "      <td>100</td>\n",
       "      <td>1</td>\n",
       "      <td>1</td>\n",
       "      <td>0</td>\n",
       "      <td>0</td>\n",
       "      <td>1</td>\n",
       "      <td>1</td>\n",
       "    </tr>\n",
       "    <tr>\n",
       "      <th>4</th>\n",
       "      <td>4</td>\n",
       "      <td>17474</td>\n",
       "      <td>1</td>\n",
       "      <td>156</td>\n",
       "      <td>56.0</td>\n",
       "      <td>100</td>\n",
       "      <td>60</td>\n",
       "      <td>1</td>\n",
       "      <td>1</td>\n",
       "      <td>0</td>\n",
       "      <td>0</td>\n",
       "      <td>0</td>\n",
       "      <td>0</td>\n",
       "    </tr>\n",
       "  </tbody>\n",
       "</table>\n",
       "</div>"
      ],
      "text/plain": [
       "   id    age  sex  height  weight  ap_hi  ap_lo  cholesterol  gluc  smoke  \\\n",
       "0   0  18393    2     168    62.0    110     80            1     1      0   \n",
       "1   1  20228    1     156    85.0    140     90            3     1      0   \n",
       "2   2  18857    1     165    64.0    130     70            3     1      0   \n",
       "3   3  17623    2     169    82.0    150    100            1     1      0   \n",
       "4   4  17474    1     156    56.0    100     60            1     1      0   \n",
       "\n",
       "   alco  active  cardio  \n",
       "0     0       1       0  \n",
       "1     0       1       1  \n",
       "2     0       0       1  \n",
       "3     0       1       1  \n",
       "4     0       0       0  "
      ]
     },
     "execution_count": 210,
     "metadata": {},
     "output_type": "execute_result"
    }
   ],
   "source": [
    "# Looking at examples of data fields\n",
    "df.head()"
   ]
  },
  {
   "attachments": {},
   "cell_type": "markdown",
   "metadata": {},
   "source": [
    "<font color='#9999ff'> **Task: We need to create a chart similar to this:**</font>  \n",
    "\n",
    "where we show the counts of good and bad outcomes for the 'cholesterol', 'gluc', 'alco', 'active', and 'smoke' variables for patients with 'cardio=1' and 'cardio=0' in different panels. We will first complete other sub tasks"
   ]
  },
  {
   "attachments": {},
   "cell_type": "markdown",
   "metadata": {},
   "source": [
    "Example chart\n",
    "<div>\n",
    "<img src=\"Example%20pictures/Figure_1.png\" width=\"900\" height=\"400\"/>\n",
    "</div>"
   ]
  },
  {
   "attachments": {},
   "cell_type": "markdown",
   "metadata": {},
   "source": [
    "<font color='#9999ff'> **Task: Add an overweight column to the data and determine if person is overweight**</font>  "
   ]
  },
  {
   "attachments": {},
   "cell_type": "markdown",
   "metadata": {},
   "source": [
    "Computing BMI\n",
    "\n",
    "We calculate their BMI by dividing their weight in kilograms by the square of their height in meters.  \n",
    "\n",
    "Since the height is given in cm, we have to first covert it to m. Then we divide weight (kg) by height squared."
   ]
  },
  {
   "cell_type": "code",
   "execution_count": 211,
   "metadata": {},
   "outputs": [],
   "source": [
    "height_squared = (df['height'] / 100) ** 2\n",
    "\n",
    "bmi_values = df['weight'] / height_squared"
   ]
  },
  {
   "attachments": {},
   "cell_type": "markdown",
   "metadata": {},
   "source": [
    "If that value is > 25 then the person is overweight. Use the value 0 for NOT overweight and the value 1 for overweight."
   ]
  },
  {
   "cell_type": "code",
   "execution_count": 212,
   "metadata": {},
   "outputs": [],
   "source": [
    "# create a list to populate values\n",
    "bmi = []\n",
    "\n",
    "# loop through the tuple and add 0s or 1s to bmi list accordingly\n",
    "for row, bmi_val in bmi_values.items():\n",
    "  if bmi_val > 25:\n",
    "    bmi.append(1)\n",
    "  else:\n",
    "    bmi.append(0)"
   ]
  },
  {
   "attachments": {},
   "cell_type": "markdown",
   "metadata": {},
   "source": [
    "Assign new bmi list as a series to 'overweight' column in df"
   ]
  },
  {
   "cell_type": "code",
   "execution_count": 213,
   "metadata": {},
   "outputs": [],
   "source": [
    "df['overweight'] = pd.Series(bmi)"
   ]
  },
  {
   "attachments": {},
   "cell_type": "markdown",
   "metadata": {},
   "source": [
    "<font color='#9999ff'>**Task: Normalize the data by making 0 always good and 1 always bad.  \n",
    "If the value of 'cholesterol' or 'gluc' is 1, make the value 0. If the value is more than 1, make the value 1.**\n",
    "</font>  "
   ]
  },
  {
   "attachments": {},
   "cell_type": "markdown",
   "metadata": {},
   "source": [
    "Checking min & max values for both variables"
   ]
  },
  {
   "cell_type": "code",
   "execution_count": 214,
   "metadata": {},
   "outputs": [
    {
     "data": {
      "text/html": [
       "<div>\n",
       "<style scoped>\n",
       "    .dataframe tbody tr th:only-of-type {\n",
       "        vertical-align: middle;\n",
       "    }\n",
       "\n",
       "    .dataframe tbody tr th {\n",
       "        vertical-align: top;\n",
       "    }\n",
       "\n",
       "    .dataframe thead th {\n",
       "        text-align: right;\n",
       "    }\n",
       "</style>\n",
       "<table border=\"1\" class=\"dataframe\">\n",
       "  <thead>\n",
       "    <tr style=\"text-align: right;\">\n",
       "      <th></th>\n",
       "      <th>cholesterol</th>\n",
       "      <th>gluc</th>\n",
       "    </tr>\n",
       "  </thead>\n",
       "  <tbody>\n",
       "    <tr>\n",
       "      <th>min</th>\n",
       "      <td>1.0</td>\n",
       "      <td>1.0</td>\n",
       "    </tr>\n",
       "    <tr>\n",
       "      <th>max</th>\n",
       "      <td>3.0</td>\n",
       "      <td>3.0</td>\n",
       "    </tr>\n",
       "  </tbody>\n",
       "</table>\n",
       "</div>"
      ],
      "text/plain": [
       "     cholesterol  gluc\n",
       "min          1.0   1.0\n",
       "max          3.0   3.0"
      ]
     },
     "execution_count": 214,
     "metadata": {},
     "output_type": "execute_result"
    }
   ],
   "source": [
    "df[['cholesterol', 'gluc']].describe().loc[['min','max']]"
   ]
  },
  {
   "attachments": {},
   "cell_type": "markdown",
   "metadata": {},
   "source": [
    "We now create 2 new lists to hold new normalised values. Then loop through each row and append values accordingly."
   ]
  },
  {
   "cell_type": "code",
   "execution_count": 215,
   "metadata": {},
   "outputs": [],
   "source": [
    "cholesterol_new, gluc_new = [], []\n",
    "\n",
    "# loop through the dataframe and add 0s or 1s to new lists accordingly\n",
    "for index, data in df[['cholesterol', 'gluc']].iterrows():\n",
    "  cholesterol_new.append(0) if data['cholesterol'] == 1 else cholesterol_new.append(1)\n",
    "  gluc_new.append(0) if data['gluc'] == 1 else gluc_new.append(1)"
   ]
  },
  {
   "attachments": {},
   "cell_type": "markdown",
   "metadata": {},
   "source": [
    "Assign new list for cholesterol and gluc as a series to dataframe"
   ]
  },
  {
   "cell_type": "code",
   "execution_count": 216,
   "metadata": {},
   "outputs": [],
   "source": [
    "df['cholesterol'] = pd.Series(cholesterol_new)\n",
    "df['gluc'] = pd.Series(gluc_new)"
   ]
  },
  {
   "attachments": {},
   "cell_type": "markdown",
   "metadata": {},
   "source": [
    "<font color='#9999ff'> **Task:**  \n",
    "**1. Convert the data into long format.**  \n",
    "**2. Create a chart that shows the value counts of the categorical features using seaborn's catplot().  \n",
    "The dataset should be split by 'Cardio' so there is one chart for each cardio value.**\n",
    "</font>"
   ]
  },
  {
   "attachments": {},
   "cell_type": "markdown",
   "metadata": {},
   "source": [
    "Getting data for the plot"
   ]
  },
  {
   "cell_type": "code",
   "execution_count": 217,
   "metadata": {},
   "outputs": [],
   "source": [
    "data1 = df[['cardio', 'active', 'alco', 'cholesterol', 'gluc','overweight', 'smoke']]"
   ]
  },
  {
   "attachments": {},
   "cell_type": "markdown",
   "metadata": {},
   "source": [
    "Converting data to long format  \n",
    "\n",
    "Youtube tutorial:\n",
    "https://www.youtube.com/watch?v=ezf2Slns0Bo"
   ]
  },
  {
   "cell_type": "code",
   "execution_count": 218,
   "metadata": {},
   "outputs": [
    {
     "data": {
      "text/html": [
       "<div>\n",
       "<style scoped>\n",
       "    .dataframe tbody tr th:only-of-type {\n",
       "        vertical-align: middle;\n",
       "    }\n",
       "\n",
       "    .dataframe tbody tr th {\n",
       "        vertical-align: top;\n",
       "    }\n",
       "\n",
       "    .dataframe thead th {\n",
       "        text-align: right;\n",
       "    }\n",
       "</style>\n",
       "<table border=\"1\" class=\"dataframe\">\n",
       "  <thead>\n",
       "    <tr style=\"text-align: right;\">\n",
       "      <th></th>\n",
       "      <th>cardio</th>\n",
       "      <th>variable</th>\n",
       "      <th>value</th>\n",
       "    </tr>\n",
       "  </thead>\n",
       "  <tbody>\n",
       "    <tr>\n",
       "      <th>0</th>\n",
       "      <td>0</td>\n",
       "      <td>active</td>\n",
       "      <td>1</td>\n",
       "    </tr>\n",
       "    <tr>\n",
       "      <th>1</th>\n",
       "      <td>1</td>\n",
       "      <td>active</td>\n",
       "      <td>1</td>\n",
       "    </tr>\n",
       "    <tr>\n",
       "      <th>2</th>\n",
       "      <td>1</td>\n",
       "      <td>active</td>\n",
       "      <td>0</td>\n",
       "    </tr>\n",
       "    <tr>\n",
       "      <th>3</th>\n",
       "      <td>1</td>\n",
       "      <td>active</td>\n",
       "      <td>1</td>\n",
       "    </tr>\n",
       "    <tr>\n",
       "      <th>4</th>\n",
       "      <td>0</td>\n",
       "      <td>active</td>\n",
       "      <td>0</td>\n",
       "    </tr>\n",
       "  </tbody>\n",
       "</table>\n",
       "</div>"
      ],
      "text/plain": [
       "   cardio variable  value\n",
       "0       0   active      1\n",
       "1       1   active      1\n",
       "2       1   active      0\n",
       "3       1   active      1\n",
       "4       0   active      0"
      ]
     },
     "execution_count": 218,
     "metadata": {},
     "output_type": "execute_result"
    }
   ],
   "source": [
    "plot1_data = data1.melt(id_vars='cardio')\n",
    "plot1_data.head()"
   ]
  },
  {
   "cell_type": "code",
   "execution_count": 248,
   "metadata": {},
   "outputs": [
    {
     "name": "stderr",
     "output_type": "stream",
     "text": [
      "C:\\Users\\hong\\AppData\\Local\\Temp\\ipykernel_3644\\646706057.py:12: UserWarning: Matplotlib is currently using module://matplotlib_inline.backend_inline, which is a non-GUI backend, so cannot show the figure.\n",
      "  fig1.figure.show()\n"
     ]
    },
    {
     "data": {
      "image/png": "[encoded data removed]",
      "text/plain": [
       "<Figure size 1063.5x500 with 2 Axes>"
      ]
     },
     "metadata": {},
     "output_type": "display_data"
    }
   ],
   "source": [
    "# set seaborn plot aesthetics\n",
    "sns.set(style='white')\n",
    "\n",
    "# plot catplot. Note: hue' param splits by value (0 and 1), 'col' param splits into different chart (cardio 0/1 in this case)\n",
    "# plt1 is actually a SNS FacetGrid object\n",
    "plt1 = sns.catplot(data=plot1_data, kind='count', x='variable', y=None, hue='value', col='cardio', errorbar=None)\n",
    "\n",
    "# set axis labels\n",
    "plt1.set_axis_labels(x_var='variable', y_var='total')\n",
    "\n",
    "# This gives us the figure by accessing the Matplotlib obj underneath\n",
    "plt1.figure.show()"
   ]
  },
  {
   "attachments": {},
   "cell_type": "markdown",
   "metadata": {},
   "source": [
    "<font color='#9999ff'> **Task: Clean the data of incorrect data.**\n",
    "\n",
    "**Filter out if:**\n",
    "  <ul>\n",
    "  <li>diastolic pressure is higher than systolic.</li>\n",
    "  <li>height is less than the 2.5th percentile.</li>\n",
    "  <li>height is more than the 97.5th percentile.</li>\n",
    "  <li>weight is less than the 2.5th percentilee</li>\n",
    "  <li>weight is more than the 97.5th percentile.</li>\n",
    "</ul>\n",
    "</font>"
   ]
  },
  {
   "attachments": {},
   "cell_type": "markdown",
   "metadata": {},
   "source": [
    "We do a conditional check, then select the id of rows we want to discard."
   ]
  },
  {
   "cell_type": "code",
   "execution_count": 220,
   "metadata": {},
   "outputs": [],
   "source": [
    "# Select rows to discard if diastolic pressure is MORE THAN systolic.\n",
    "to_discard1 = df[df['ap_lo'] > df['ap_hi']]['id']\n",
    "\n",
    "# Select rows to discard if height is (LOWER THAN 2.5th percentile) or (MORE THAN 97.5th percentile).\n",
    "to_discard2 = df[ (df['height'] < df['height'].quantile(0.025)) | (df['height'] > df['height'].quantile(0.975)) ]['id']\n",
    "\n",
    "# Select rows to discard if weight is (LOWER THAN 2.5th percentile) or (MORE THAN 97.5th percentile)\n",
    "to_discard3  = df[ (df['weight'] < df['weight'].quantile(0.025)) | (df['weight'] > df['weight'].quantile(0.975)) ]['id']"
   ]
  },
  {
   "attachments": {},
   "cell_type": "markdown",
   "metadata": {},
   "source": [
    "We concatenate the dataframes to be discarded and also remove duplicates"
   ]
  },
  {
   "cell_type": "code",
   "execution_count": 221,
   "metadata": {},
   "outputs": [],
   "source": [
    "# Concat the dfs to discard\n",
    "id_set_to_discard = pd.concat([to_discard1, to_discard2, to_discard3])\n",
    "\n",
    "# Drop duplicate rows\n",
    "id_set_to_discard.drop_duplicates(inplace=True)"
   ]
  },
  {
   "attachments": {},
   "cell_type": "markdown",
   "metadata": {},
   "source": [
    "Print checks"
   ]
  },
  {
   "cell_type": "code",
   "execution_count": 222,
   "metadata": {},
   "outputs": [
    {
     "name": "stdout",
     "output_type": "stream",
     "text": [
      "70000\n",
      "6741\n",
      "63259\n"
     ]
    }
   ],
   "source": [
    "print(len(df))\n",
    "print(len(id_set_to_discard))\n",
    "print(len(df)-len(id_set_to_discard))"
   ]
  },
  {
   "attachments": {},
   "cell_type": "markdown",
   "metadata": {},
   "source": [
    "Now we create another dataframe. This will store values of those that are not discarded."
   ]
  },
  {
   "cell_type": "code",
   "execution_count": 223,
   "metadata": {},
   "outputs": [
    {
     "data": {
      "text/plain": [
       "(63259, 14)"
      ]
     },
     "execution_count": 223,
     "metadata": {},
     "output_type": "execute_result"
    }
   ],
   "source": [
    "# Create a new dataframe. Select the rows if the id does not appear set of ids to discard\n",
    "new_df = df[~(df['id'].isin(id_set_to_discard))]\n",
    "\n",
    "# check\n",
    "new_df.shape"
   ]
  },
  {
   "attachments": {},
   "cell_type": "markdown",
   "metadata": {},
   "source": [
    "<font color='#9999ff'> **Task: Create a correlation matrix using the dataset.**\n",
    "<ul>\n",
    "  <li>Plot the correlation matrix using seaborn's 'heatmap()'</li>\n",
    "  <li>Mask the upper triangle. The chart should look like</li>\n",
    "</ul>\n",
    "\n",
    "</font>"
   ]
  },
  {
   "attachments": {},
   "cell_type": "markdown",
   "metadata": {},
   "source": [
    "Example chart\n",
    "<div>\n",
    "<img src=\"Example%20pictures/Figure_2.png\" height=\"600\" width=auto>\n",
    "</div>"
   ]
  },
  {
   "attachments": {},
   "cell_type": "markdown",
   "metadata": {},
   "source": [
    "We generate a correlation matrix for all features using '.corr()'. We round all values to 2dp"
   ]
  },
  {
   "cell_type": "code",
   "execution_count": 224,
   "metadata": {},
   "outputs": [],
   "source": [
    "corr_matrix = round(new_df.corr(), 4)"
   ]
  },
  {
   "attachments": {},
   "cell_type": "markdown",
   "metadata": {},
   "source": [
    "Displaying first few rows to check output"
   ]
  },
  {
   "cell_type": "code",
   "execution_count": 225,
   "metadata": {},
   "outputs": [
    {
     "data": {
      "text/html": [
       "<div>\n",
       "<style scoped>\n",
       "    .dataframe tbody tr th:only-of-type {\n",
       "        vertical-align: middle;\n",
       "    }\n",
       "\n",
       "    .dataframe tbody tr th {\n",
       "        vertical-align: top;\n",
       "    }\n",
       "\n",
       "    .dataframe thead th {\n",
       "        text-align: right;\n",
       "    }\n",
       "</style>\n",
       "<table border=\"1\" class=\"dataframe\">\n",
       "  <thead>\n",
       "    <tr style=\"text-align: right;\">\n",
       "      <th></th>\n",
       "      <th>id</th>\n",
       "      <th>age</th>\n",
       "      <th>sex</th>\n",
       "      <th>height</th>\n",
       "      <th>weight</th>\n",
       "      <th>ap_hi</th>\n",
       "      <th>ap_lo</th>\n",
       "      <th>cholesterol</th>\n",
       "      <th>gluc</th>\n",
       "      <th>smoke</th>\n",
       "      <th>alco</th>\n",
       "      <th>active</th>\n",
       "      <th>cardio</th>\n",
       "      <th>overweight</th>\n",
       "    </tr>\n",
       "  </thead>\n",
       "  <tbody>\n",
       "    <tr>\n",
       "      <th>id</th>\n",
       "      <td>1.0000</td>\n",
       "      <td>0.0025</td>\n",
       "      <td>0.0034</td>\n",
       "      <td>0.0003</td>\n",
       "      <td>0.0001</td>\n",
       "      <td>0.0035</td>\n",
       "      <td>0.0005</td>\n",
       "      <td>0.0037</td>\n",
       "      <td>0.0023</td>\n",
       "      <td>-0.0027</td>\n",
       "      <td>-0.0007</td>\n",
       "      <td>0.0059</td>\n",
       "      <td>0.0039</td>\n",
       "      <td>-0.0007</td>\n",
       "    </tr>\n",
       "    <tr>\n",
       "      <th>age</th>\n",
       "      <td>0.0025</td>\n",
       "      <td>1.0000</td>\n",
       "      <td>-0.0181</td>\n",
       "      <td>-0.0769</td>\n",
       "      <td>0.0702</td>\n",
       "      <td>0.0187</td>\n",
       "      <td>0.1535</td>\n",
       "      <td>0.1300</td>\n",
       "      <td>0.0870</td>\n",
       "      <td>-0.0444</td>\n",
       "      <td>-0.0270</td>\n",
       "      <td>-0.0114</td>\n",
       "      <td>0.2402</td>\n",
       "      <td>0.0896</td>\n",
       "    </tr>\n",
       "    <tr>\n",
       "      <th>sex</th>\n",
       "      <td>0.0034</td>\n",
       "      <td>-0.0181</td>\n",
       "      <td>1.0000</td>\n",
       "      <td>0.5058</td>\n",
       "      <td>0.1300</td>\n",
       "      <td>0.0051</td>\n",
       "      <td>0.0599</td>\n",
       "      <td>-0.0376</td>\n",
       "      <td>-0.0214</td>\n",
       "      <td>0.3374</td>\n",
       "      <td>0.1686</td>\n",
       "      <td>0.0079</td>\n",
       "      <td>0.0023</td>\n",
       "      <td>-0.0529</td>\n",
       "    </tr>\n",
       "    <tr>\n",
       "      <th>height</th>\n",
       "      <td>0.0003</td>\n",
       "      <td>-0.0769</td>\n",
       "      <td>0.5058</td>\n",
       "      <td>1.0000</td>\n",
       "      <td>0.2515</td>\n",
       "      <td>0.0046</td>\n",
       "      <td>0.0179</td>\n",
       "      <td>-0.0635</td>\n",
       "      <td>-0.0305</td>\n",
       "      <td>0.1878</td>\n",
       "      <td>0.0898</td>\n",
       "      <td>-0.0057</td>\n",
       "      <td>-0.0241</td>\n",
       "      <td>-0.1496</td>\n",
       "    </tr>\n",
       "    <tr>\n",
       "      <th>weight</th>\n",
       "      <td>0.0001</td>\n",
       "      <td>0.0702</td>\n",
       "      <td>0.1300</td>\n",
       "      <td>0.2515</td>\n",
       "      <td>1.0000</td>\n",
       "      <td>0.0270</td>\n",
       "      <td>0.2279</td>\n",
       "      <td>0.1360</td>\n",
       "      <td>0.1071</td>\n",
       "      <td>0.0565</td>\n",
       "      <td>0.0599</td>\n",
       "      <td>-0.0144</td>\n",
       "      <td>0.1700</td>\n",
       "      <td>0.6559</td>\n",
       "    </tr>\n",
       "  </tbody>\n",
       "</table>\n",
       "</div>"
      ],
      "text/plain": [
       "            id     age     sex  height  weight   ap_hi   ap_lo  cholesterol  \\\n",
       "id      1.0000  0.0025  0.0034  0.0003  0.0001  0.0035  0.0005       0.0037   \n",
       "age     0.0025  1.0000 -0.0181 -0.0769  0.0702  0.0187  0.1535       0.1300   \n",
       "sex     0.0034 -0.0181  1.0000  0.5058  0.1300  0.0051  0.0599      -0.0376   \n",
       "height  0.0003 -0.0769  0.5058  1.0000  0.2515  0.0046  0.0179      -0.0635   \n",
       "weight  0.0001  0.0702  0.1300  0.2515  1.0000  0.0270  0.2279       0.1360   \n",
       "\n",
       "          gluc   smoke    alco  active  cardio  overweight  \n",
       "id      0.0023 -0.0027 -0.0007  0.0059  0.0039     -0.0007  \n",
       "age     0.0870 -0.0444 -0.0270 -0.0114  0.2402      0.0896  \n",
       "sex    -0.0214  0.3374  0.1686  0.0079  0.0023     -0.0529  \n",
       "height -0.0305  0.1878  0.0898 -0.0057 -0.0241     -0.1496  \n",
       "weight  0.1071  0.0565  0.0599 -0.0144  0.1700      0.6559  "
      ]
     },
     "execution_count": 225,
     "metadata": {},
     "output_type": "execute_result"
    }
   ],
   "source": [
    "corr_matrix.head()"
   ]
  },
  {
   "attachments": {},
   "cell_type": "markdown",
   "metadata": {},
   "source": [
    "Creating a mask for the upper triangle as we only want values below the diagonal"
   ]
  },
  {
   "cell_type": "code",
   "execution_count": 226,
   "metadata": {},
   "outputs": [],
   "source": [
    "mask = np.triu(np.ones_like(corr_matrix))"
   ]
  },
  {
   "attachments": {},
   "cell_type": "markdown",
   "metadata": {},
   "source": [
    "Creating a basic seaborn heatmap.  \n",
    "\n",
    "Parameters:\n",
    "<ul>\n",
    "  <li>'cmap' to change colour</li>\n",
    "  <li>'annot' to display correlation values</li>\n",
    "  <li>'mask' to mask out cells that are marked as True</li>\n",
    "  <li>'cbar_kws' to change the colour bar properties</li>\n",
    "<ul>"
   ]
  },
  {
   "attachments": {},
   "cell_type": "markdown",
   "metadata": {},
   "source": [
    "Setting up matplotlib figure and plotting heatmap with seaborn"
   ]
  },
  {
   "cell_type": "code",
   "execution_count": 250,
   "metadata": {},
   "outputs": [
    {
     "data": {
      "image/png": "[encoded data removed]",
      "text/plain": [
       "<Figure size 900x700 with 2 Axes>"
      ]
     },
     "metadata": {},
     "output_type": "display_data"
    }
   ],
   "source": [
    "fig, ax = plt.subplots(figsize=(9, 6))\n",
    "sns.heatmap(corr_matrix, cmap='magma', annot=True, fmt=\".1f\", mask=mask, cbar_kws={\"shrink\": .6})\n",
    "plt.show()"
   ]
  }
 ],
 "metadata": {
  "kernelspec": {
   "display_name": "Python 3",
   "language": "python",
   "name": "python3"
  },
  "language_info": {
   "codemirror_mode": {
    "name": "ipython",
    "version": 3
   },
   "file_extension": ".py",
   "mimetype": "text/x-python",
   "name": "python",
   "nbconvert_exporter": "python",
   "pygments_lexer": "ipython3",
   "version": "3.11.2"
  },
  "orig_nbformat": 4
 },
 "nbformat": 4,
 "nbformat_minor": 2
}
