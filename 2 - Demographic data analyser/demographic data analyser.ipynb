{
 "cells": [
  {
   "cell_type": "code",
   "execution_count": null,
   "metadata": {},
   "outputs": [],
   "source": [
    "import pandas as pd\n",
    "import csv"
   ]
  },
  {
   "cell_type": "code",
   "execution_count": 64,
   "metadata": {},
   "outputs": [],
   "source": [
    "# reading csv file\n",
    "df = pd.read_csv('adult.data.csv')"
   ]
  },
  {
   "cell_type": "code",
   "execution_count": null,
   "metadata": {},
   "outputs": [],
   "source": [
    "# Checking headers and data types\n",
    "df.info()"
   ]
  },
  {
   "cell_type": "code",
   "execution_count": null,
   "metadata": {},
   "outputs": [],
   "source": [
    "# Looking at examples of data fields\n",
    "df.head()"
   ]
  },
  {
   "attachments": {},
   "cell_type": "markdown",
   "metadata": {},
   "source": [
    "<font color='#9999ff'> **Qn: How many people of each race are represented in this dataset?**</font>  \n",
    "\n",
    "We filter on race and use '.value_counts()' method"
   ]
  },
  {
   "cell_type": "code",
   "execution_count": null,
   "metadata": {},
   "outputs": [],
   "source": [
    "# Selection of unique values for 'race' field \n",
    "df['race'].value_counts()"
   ]
  },
  {
   "attachments": {},
   "cell_type": "markdown",
   "metadata": {},
   "source": [
    "Unique races represented in this dataset: **'White', 'Black', 'Asian-Pac-Islander', 'Amer-Indian-Eskimo', 'Other'**"
   ]
  },
  {
   "attachments": {},
   "cell_type": "markdown",
   "metadata": {},
   "source": [
    "<font color='#9999ff'> **Qn: What is the average age of men?**</font>  \n",
    "\n",
    "We do this by selecting tuples where 'sex' is 'Male' and lookup the 'age' column and using '.mean()' method"
   ]
  },
  {
   "cell_type": "code",
   "execution_count": null,
   "metadata": {},
   "outputs": [],
   "source": [
    "df[df['sex'] == 'Male']['age'].mean().round(1)"
   ]
  },
  {
   "attachments": {},
   "cell_type": "markdown",
   "metadata": {},
   "source": [
    "Average age of men: **39.4 years old**"
   ]
  },
  {
   "attachments": {},
   "cell_type": "markdown",
   "metadata": {},
   "source": [
    "<font color='#9999ff'> **Qn: What is the percentage of people who have a Bachelor's degree?**</font>  "
   ]
  },
  {
   "cell_type": "code",
   "execution_count": null,
   "metadata": {},
   "outputs": [],
   "source": [
    "# Get percentage of people with Bachelor's degree\n",
    "percent_bach_deg = round(((len(df[df['education'] == 'Bachelors']) / len(df)) * 100), 1)\n",
    "print(percent_bach_deg)"
   ]
  },
  {
   "attachments": {},
   "cell_type": "markdown",
   "metadata": {},
   "source": [
    "Perent of people with Bachelor's degree: **16.4%**"
   ]
  },
  {
   "attachments": {},
   "cell_type": "markdown",
   "metadata": {},
   "source": [
    "<font color='#9999ff'> **Qn: What percentage of people WITH advanced education (Bachelors, Masters, or Doctorate) make more than 50K?**</font>  \n",
    "\n",
    "We first identify tuples where individuals have higher education, then we get a count."
   ]
  },
  {
   "cell_type": "code",
   "execution_count": null,
   "metadata": {},
   "outputs": [],
   "source": [
    "# Tuples with higher education\n",
    "higher_education = df.loc[df['education'].isin(['Bachelors', 'Masters', 'Doctorate']),['education', 'salary']]\n",
    "\n",
    "# alternatively, if we wish to select entire row \n",
    "# higher_education = df[df['education'].isin(['Bachelors', 'Masters', 'Doctorate'])]\n",
    "\n",
    "# Get count of people with higher education\n",
    "len(higher_education)"
   ]
  },
  {
   "attachments": {},
   "cell_type": "markdown",
   "metadata": {},
   "source": [
    "There are 7491 individuals with higher education.\n",
    "\n",
    "From these individuals we now select those with salary more than 50k"
   ]
  },
  {
   "cell_type": "code",
   "execution_count": null,
   "metadata": {},
   "outputs": [],
   "source": [
    "higher_education_rich = higher_education[higher_education['salary'] == '>50K']\n",
    "\n",
    "# Getting a count of people with higher education and salary above 50K\n",
    "len(higher_education_rich)"
   ]
  },
  {
   "attachments": {},
   "cell_type": "markdown",
   "metadata": {},
   "source": [
    "There are 7491 individuals with higher education. 3486 of them have salary above 50k.  \n",
    "\n",
    "We now calculate a percentage"
   ]
  },
  {
   "cell_type": "code",
   "execution_count": null,
   "metadata": {},
   "outputs": [],
   "source": [
    "higher_education_rich_percent = (len(higher_education_rich) / len(higher_education)) * 100\n",
    "\n",
    "print(round(higher_education_rich_percent, 1))"
   ]
  },
  {
   "attachments": {},
   "cell_type": "markdown",
   "metadata": {},
   "source": [
    "Percent of individuals with higher education earning more than 50K: **46.5%**"
   ]
  },
  {
   "attachments": {},
   "cell_type": "markdown",
   "metadata": {},
   "source": [
    "<font color='#9999ff'>**Qn: What percentage of people WITHOUT advanced education (Bachelors, Masters, or Doctorate) make more than 50K?** </font>  \n",
    "\n",
    "We first identify tuples where individuals DO NOT have higher education, then we get a count."
   ]
  },
  {
   "cell_type": "code",
   "execution_count": null,
   "metadata": {},
   "outputs": [],
   "source": [
    "# Tuples without higher education\n",
    "lower_education = df.loc[~df['education'].isin(['Bachelors', 'Masters', 'Doctorate']),['education', 'salary']]\n",
    "\n",
    "# alternatively, if we wish to select entire row \n",
    "# lower_education = df[~df['education'].isin(['Bachelors', 'Masters', 'Doctorate'])]\n",
    "\n",
    "# Get count of people without higher education\n",
    "len(lower_education)"
   ]
  },
  {
   "attachments": {},
   "cell_type": "markdown",
   "metadata": {},
   "source": [
    "There are 25070 individuals without higher education.\n",
    "\n",
    "From these individuals we now select those with salary more than 50k"
   ]
  },
  {
   "cell_type": "code",
   "execution_count": null,
   "metadata": {},
   "outputs": [],
   "source": [
    "lower_education_rich = lower_education[lower_education['salary'] == '>50K']\n",
    "\n",
    "# Getting a count of people without higher education and salary above 50K\n",
    "len(lower_education_rich)"
   ]
  },
  {
   "attachments": {},
   "cell_type": "markdown",
   "metadata": {},
   "source": [
    "There are 25070 individuals without higher education. 4355 of them have salary above 50k.  \n",
    "\n",
    "We now calculate a percentage"
   ]
  },
  {
   "cell_type": "code",
   "execution_count": null,
   "metadata": {},
   "outputs": [],
   "source": [
    "lower_education_rich_percent = (len(lower_education_rich) / len(lower_education)) * 100\n",
    "print(round(lower_education_rich_percent, 1))"
   ]
  },
  {
   "attachments": {},
   "cell_type": "markdown",
   "metadata": {},
   "source": [
    "Percent of individuals without higher education earning more than 50K: **17.4%**"
   ]
  },
  {
   "attachments": {},
   "cell_type": "markdown",
   "metadata": {},
   "source": [
    "<font color='#9999ff'>**Qn: What is the minimum number of hours a person works per week (hours-per-week feature)?** </font>  \n",
    "\n",
    "We index into 'hours-per-week' column and find the minimum number"
   ]
  },
  {
   "cell_type": "code",
   "execution_count": 114,
   "metadata": {},
   "outputs": [],
   "source": [
    "min_work_hours = df['hours-per-week'].min()"
   ]
  },
  {
   "attachments": {},
   "cell_type": "markdown",
   "metadata": {},
   "source": [
    "Minimum number of hours worked per week is 1"
   ]
  },
  {
   "attachments": {},
   "cell_type": "markdown",
   "metadata": {},
   "source": [
    "<font color='#9999ff'>**Qn: What percentage of the people who work the minimum number of hours per week have a salary of >50K?** </font>  \n",
    "\n",
    "We first get a count of people who work 1 hour per week"
   ]
  },
  {
   "cell_type": "code",
   "execution_count": 115,
   "metadata": {},
   "outputs": [],
   "source": [
    "count_num_min_hrs_wrk_perwk = len(df[df['hours-per-week'] == min_work_hours])"
   ]
  },
  {
   "attachments": {},
   "cell_type": "markdown",
   "metadata": {},
   "source": [
    "20 people work 1 hour per week. We now get the count of those who make more than 50k."
   ]
  },
  {
   "cell_type": "code",
   "execution_count": 118,
   "metadata": {},
   "outputs": [],
   "source": [
    "# filter on 'hours-per-week' and 'salary'\n",
    "rich_count = len(df[(df['hours-per-week'] == min_work_hours) & (df['salary'] == '>50K')])"
   ]
  },
  {
   "attachments": {},
   "cell_type": "markdown",
   "metadata": {},
   "source": [
    "2 people work 1 hour per week and make more than 50k. We now caculate a percentage"
   ]
  },
  {
   "cell_type": "code",
   "execution_count": 149,
   "metadata": {},
   "outputs": [
    {
     "name": "stdout",
     "output_type": "stream",
     "text": [
      "10\n"
     ]
    }
   ],
   "source": [
    "# rich_percentage = int((rich_count / count_num_min_hrs_wrk_perwk) * 100)  ~~~~~~~~~~~~~~~~EDIT THISSSS~~~~~~\n",
    "rich_percentage = (rich_count / count_num_min_hrs_wrk_perwk) * 100"
   ]
  },
  {
   "attachments": {},
   "cell_type": "markdown",
   "metadata": {},
   "source": [
    "10% of people work 1 hour per week and make more than 50k"
   ]
  },
  {
   "attachments": {},
   "cell_type": "markdown",
   "metadata": {},
   "source": [
    "<font color='#9999ff'>**Qn: What country has the highest percentage of people that earn >50K?** </font>  \n",
    "\n",
    "We first the list of countries represented"
   ]
  },
  {
   "cell_type": "code",
   "execution_count": 152,
   "metadata": {},
   "outputs": [
    {
     "data": {
      "text/plain": [
       "array(['United-States', 'Cuba', 'Jamaica', 'India', '?', 'Mexico',\n",
       "       'South', 'Puerto-Rico', 'Honduras', 'England', 'Canada', 'Germany',\n",
       "       'Iran', 'Philippines', 'Italy', 'Poland', 'Columbia', 'Cambodia',\n",
       "       'Thailand', 'Ecuador', 'Laos', 'Taiwan', 'Haiti', 'Portugal',\n",
       "       'Dominican-Republic', 'El-Salvador', 'France', 'Guatemala',\n",
       "       'China', 'Japan', 'Yugoslavia', 'Peru',\n",
       "       'Outlying-US(Guam-USVI-etc)', 'Scotland', 'Trinadad&Tobago',\n",
       "       'Greece', 'Nicaragua', 'Vietnam', 'Hong', 'Ireland', 'Hungary',\n",
       "       'Holand-Netherlands'], dtype=object)"
      ]
     },
     "execution_count": 152,
     "metadata": {},
     "output_type": "execute_result"
    }
   ],
   "source": [
    "countries = df['native-country'].unique()"
   ]
  },
  {
   "attachments": {},
   "cell_type": "markdown",
   "metadata": {},
   "source": [
    "We now get the population count for each country (sorted by country index)"
   ]
  },
  {
   "cell_type": "code",
   "execution_count": 195,
   "metadata": {},
   "outputs": [
    {
     "data": {
      "text/plain": [
       "?           583\n",
       "Cambodia     19\n",
       "Canada      121\n",
       "China        75\n",
       "Columbia     59\n",
       "Name: native-country, dtype: int64"
      ]
     },
     "execution_count": 195,
     "metadata": {},
     "output_type": "execute_result"
    }
   ],
   "source": [
    "country_population = df['native-country'].value_counts().sort_index()\n",
    "country_population.head()"
   ]
  },
  {
   "attachments": {},
   "cell_type": "markdown",
   "metadata": {},
   "source": [
    "We now make a dataframe for people who make more than 50K a year (selecting their country only)"
   ]
  },
  {
   "cell_type": "code",
   "execution_count": null,
   "metadata": {},
   "outputs": [],
   "source": [
    "df_more_than_50k = df.loc[df['salary'] == '>50K', 'native-country']"
   ]
  },
  {
   "attachments": {},
   "cell_type": "markdown",
   "metadata": {},
   "source": [
    "We count the number of people making more than 50k for each country. We do this by using the '.value_counts()' method.  \n",
    "\n",
    "Also, we sort this by country."
   ]
  },
  {
   "cell_type": "code",
   "execution_count": 190,
   "metadata": {},
   "outputs": [
    {
     "data": {
      "text/plain": [
       "?           146\n",
       "Cambodia      7\n",
       "Canada       39\n",
       "China        20\n",
       "Columbia      2\n",
       "Name: native-country, dtype: int64"
      ]
     },
     "execution_count": 190,
     "metadata": {},
     "output_type": "execute_result"
    }
   ],
   "source": [
    "country_rich_ppl_count = df_more_than_50k.value_counts().sort_index()\n",
    "country_rich_ppl_count.head()"
   ]
  },
  {
   "attachments": {},
   "cell_type": "markdown",
   "metadata": {},
   "source": [
    "Get percentage for people making more than 50k by country. Sort vales"
   ]
  },
  {
   "cell_type": "code",
   "execution_count": null,
   "metadata": {},
   "outputs": [],
   "source": [
    "highest_earning_country_percentage =  ((country_rich_ppl_count / country_population) * 100)\n",
    "\n",
    "# Round values to 1 dp. Sort by values in descending order.\n",
    "highest_earning_country_percentage = round(highest_earning_country_percentage, 1).sort_values(ascending=False)"
   ]
  },
  {
   "attachments": {},
   "cell_type": "markdown",
   "metadata": {},
   "source": [
    "Get top earning country and percentage"
   ]
  },
  {
   "cell_type": "code",
   "execution_count": null,
   "metadata": {},
   "outputs": [],
   "source": [
    "highest_earning_country_percentage.head(1)"
   ]
  },
  {
   "attachments": {},
   "cell_type": "markdown",
   "metadata": {},
   "source": [
    "Highest earning country by percentage: **Iran**  \n",
    "\n",
    "Percentage: **41.9%**"
   ]
  },
  {
   "attachments": {},
   "cell_type": "markdown",
   "metadata": {},
   "source": [
    "<font color='#9999ff'>**Qn: Identify the most popular occupation for those who earn >50K in India.** </font>  \n",
    "\n",
    "We select by filtering by country and salary"
   ]
  },
  {
   "cell_type": "code",
   "execution_count": null,
   "metadata": {},
   "outputs": [],
   "source": [
    "# output occupation only\n",
    "rich_indians = df.loc[(df['native-country'] == 'India') & (df['salary'] == '>50K'), 'occupation']"
   ]
  },
  {
   "attachments": {},
   "cell_type": "markdown",
   "metadata": {},
   "source": [
    "Get value counts for occupation"
   ]
  },
  {
   "cell_type": "code",
   "execution_count": 210,
   "metadata": {},
   "outputs": [
    {
     "data": {
      "text/plain": [
       "Prof-specialty     25\n",
       "Exec-managerial     8\n",
       "Other-service       2\n",
       "Name: occupation, dtype: int64"
      ]
     },
     "execution_count": 210,
     "metadata": {},
     "output_type": "execute_result"
    }
   ],
   "source": [
    "rich_indians.value_counts().head(3)"
   ]
  },
  {
   "attachments": {},
   "cell_type": "markdown",
   "metadata": {},
   "source": [
    "Top occupation in India for individuals making more than 50K: **Prof-specialty**"
   ]
  }
 ],
 "metadata": {
  "kernelspec": {
   "display_name": "Python 3",
   "language": "python",
   "name": "python3"
  },
  "language_info": {
   "codemirror_mode": {
    "name": "ipython",
    "version": 3
   },
   "file_extension": ".py",
   "mimetype": "text/x-python",
   "name": "python",
   "nbconvert_exporter": "python",
   "pygments_lexer": "ipython3",
   "version": "3.11.2"
  },
  "orig_nbformat": 4
 },
 "nbformat": 4,
 "nbformat_minor": 2
}
